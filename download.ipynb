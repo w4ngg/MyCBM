{
 "cells": [
  {
   "cell_type": "code",
   "execution_count": null,
   "id": "af769b44",
   "metadata": {},
   "outputs": [],
   "source": [
    "import os\n",
    "import shutil\n",
    "import scipy.io\n",
    "from tqdm import tqdm\n",
    "\n",
    "def prepare_imagefolder_format(root_dir):\n",
    "    # Paths to annotation files\n",
    "    train_anno_path = os.path.join(root_dir, \"devkit\", \"cars_train_annos.mat\")\n",
    "    test_anno_path = os.path.join(root_dir, \"cars_test_annos_withlabels.mat\")\n",
    "\n",
    "    # Input image dirs\n",
    "    train_img_dir = os.path.join(root_dir, \"cars_train\")\n",
    "    test_img_dir = os.path.join(root_dir, \"cars_test\")\n",
    "\n",
    "    # Output dirs\n",
    "    out_train_dir = os.path.join(root_dir, \"train\")\n",
    "    out_test_dir = os.path.join(root_dir, \"test\")\n",
    "\n",
    "    os.makedirs(out_train_dir, exist_ok=True)\n",
    "    os.makedirs(out_test_dir, exist_ok=True)\n",
    "\n",
    "    def organize_images(anno_path, img_dir, output_dir):\n",
    "        annos = scipy.io.loadmat(anno_path)['annotations'][0]\n",
    "        for a in tqdm(annos, desc=f\"Organizing {output_dir}\"):\n",
    "            fname = str(a['fname'][0])               # ✅ Correct field\n",
    "            label = int(a['class'][0][0]) - 1       # ✅ Correct field\n",
    "            label_dir = os.path.join(output_dir, f\"{label:03d}\")\n",
    "            os.makedirs(label_dir, exist_ok=True)\n",
    "\n",
    "            src = os.path.join(img_dir, fname)\n",
    "            dst = os.path.join(label_dir, fname)\n",
    "\n",
    "            if os.path.exists(src):\n",
    "                shutil.copy(src, dst)\n",
    "            else:\n",
    "                print(f\"⚠️ Missing file: {src}\")\n",
    "\n",
    "\n",
    "    organize_images(train_anno_path, train_img_dir, out_train_dir)\n",
    "    organize_images(test_anno_path, test_img_dir, out_test_dir)\n",
    "\n",
    "# Run it\n",
    "prepare_imagefolder_format(\"/kaggle/MyCBM/stanford_cars\")\n",
    "\n",
    "print(\"✅ Dataset has been reorganized to ImageFolder format.\")\n"
   ]
  },
  {
   "cell_type": "code",
   "execution_count": null,
   "id": "5d1ddd00",
   "metadata": {},
   "outputs": [],
   "source": [
    "import os\n",
    "import zipfile\n",
    "import urllib.request\n",
    "\n",
    "# Thư mục đích\n",
    "save_path = \"/content/my_data\"\n",
    "os.makedirs(save_path, exist_ok=True)\n",
    "\n",
    "# Tải Tiny ImageNet\n",
    "url = \"http://cs231n.stanford.edu/tiny-imagenet-200.zip\"\n",
    "zip_path = os.path.join(save_path, \"tiny-imagenet-200.zip\")\n",
    "\n",
    "print(\"📥 Đang tải Tiny ImageNet...\")\n",
    "urllib.request.urlretrieve(url, zip_path)\n",
    "\n",
    "print(\"📦 Đang giải nén...\")\n",
    "with zipfile.ZipFile(zip_path, 'r') as zip_ref:\n",
    "    zip_ref.extractall(save_path)\n",
    "\n",
    "print(\"✅ Tải và giải nén xong.\")\n"
   ]
  },
  {
   "cell_type": "code",
   "execution_count": null,
   "id": "d6dcb4de",
   "metadata": {},
   "outputs": [],
   "source": [
    "import shutil\n",
    "\n",
    "val_dir = os.path.join(save_path, \"tiny-imagenet-200\", \"val\")\n",
    "img_dir = os.path.join(val_dir, \"images\")\n",
    "anno_file = os.path.join(val_dir, \"val_annotations.txt\")\n",
    "\n",
    "# Đọc nhãn từng ảnh\n",
    "with open(anno_file, \"r\") as f:\n",
    "    lines = f.readlines()\n",
    "    mapping = {line.split(\"\\t\")[0]: line.split(\"\\t\")[1] for line in lines}\n",
    "\n",
    "# Tạo thư mục class và di chuyển ảnh\n",
    "for img_name, class_name in mapping.items():\n",
    "    class_dir = os.path.join(val_dir, class_name)\n",
    "    os.makedirs(class_dir, exist_ok=True)\n",
    "    shutil.move(os.path.join(img_dir, img_name), os.path.join(class_dir, img_name))\n",
    "\n",
    "# Xóa folder không cần thiết\n",
    "shutil.rmtree(img_dir)\n",
    "os.remove(anno_file)\n",
    "\n",
    "print(\"✅ Đã tổ chức lại thư mục val đúng định dạng ImageFolder.\")\n"
   ]
  },
  {
   "cell_type": "code",
   "execution_count": 5,
   "id": "b83bdefd",
   "metadata": {},
   "outputs": [
    {
     "name": "stdout",
     "output_type": "stream",
     "text": [
      "['0', '1']\n",
      "0\n",
      "1\n"
     ]
    }
   ],
   "source": [
    "import torch\n",
    "args = {\n",
    "    \"device\": [\"0\",\"1\"]\n",
    "}\n",
    "device_type = args[\"device\"]\n",
    "gpus = []\n",
    "print(device_type)\n",
    "for device in device_type:\n",
    "    print(device)\n",
    "    if device_type == -1:\n",
    "        device = torch.device(\"cpu\")\n",
    "    else:\n",
    "        device = torch.device(\"cuda:{}\".format(device))\n",
    "\n",
    "    gpus.append(device)"
   ]
  },
  {
   "cell_type": "code",
   "execution_count": 3,
   "id": "577e0d5d",
   "metadata": {},
   "outputs": [
    {
     "name": "stdout",
     "output_type": "stream",
     "text": [
      "[device(type='cuda', index=6)]\n"
     ]
    }
   ],
   "source": [
    "print(gpus)"
   ]
  },
  {
   "cell_type": "code",
   "execution_count": 9,
   "id": "2bc9ea3f",
   "metadata": {},
   "outputs": [
    {
     "data": {
      "text/plain": [
       "(array([[5.5, 2. ]]),\n",
       " array([1.]),\n",
       " array([[[ 2.02500010e+01, -9.25185854e-17],\n",
       "         [-9.25185854e-17,  2.66666767e+00]]]))"
      ]
     },
     "execution_count": 9,
     "metadata": {},
     "output_type": "execute_result"
    }
   ],
   "source": [
    "import numpy as np\n",
    "from sklearn.mixture import GaussianMixture\n",
    "X = np.array([[1, 2], [1, 4], [1, 0], [10, 2], [10, 4], [10, 0]])\n",
    "gm = GaussianMixture(n_components=1, random_state=0).fit(X)\n",
    "gm.means_,gm.weights_,gm.covariances_"
   ]
  },
  {
   "cell_type": "code",
   "execution_count": 12,
   "id": "e475e134",
   "metadata": {},
   "outputs": [
    {
     "data": {
      "text/plain": [
       "array([[ 2.02500010e+01, -9.25185854e-17],\n",
       "       [-9.25185854e-17,  2.66666767e+00]])"
      ]
     },
     "execution_count": 12,
     "metadata": {},
     "output_type": "execute_result"
    }
   ],
   "source": [
    "gm.covariances_[0]"
   ]
  },
  {
   "cell_type": "code",
   "execution_count": null,
   "id": "6c38a36c",
   "metadata": {},
   "outputs": [],
   "source": []
  }
 ],
 "metadata": {
  "kernelspec": {
   "display_name": "AI_HCM",
   "language": "python",
   "name": "python3"
  },
  "language_info": {
   "codemirror_mode": {
    "name": "ipython",
    "version": 3
   },
   "file_extension": ".py",
   "mimetype": "text/x-python",
   "name": "python",
   "nbconvert_exporter": "python",
   "pygments_lexer": "ipython3",
   "version": "3.10.14"
  }
 },
 "nbformat": 4,
 "nbformat_minor": 5
}
