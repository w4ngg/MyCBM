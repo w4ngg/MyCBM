{
 "cells": [
  {
   "cell_type": "code",
   "execution_count": null,
   "id": "af769b44",
   "metadata": {
    "vscode": {
     "languageId": "plaintext"
    }
   },
   "outputs": [],
   "source": [
    "import os\n",
    "import shutil\n",
    "import scipy.io\n",
    "from tqdm import tqdm\n",
    "\n",
    "def prepare_imagefolder_format(root_dir):\n",
    "    # Paths to annotation files\n",
    "    train_anno_path = os.path.join(root_dir, \"devkit\", \"cars_train_annos.mat\")\n",
    "    test_anno_path = os.path.join(root_dir, \"cars_test_annos_withlabels.mat\")\n",
    "\n",
    "    # Input image dirs\n",
    "    train_img_dir = os.path.join(root_dir, \"cars_train\")\n",
    "    test_img_dir = os.path.join(root_dir, \"cars_test\")\n",
    "\n",
    "    # Output dirs\n",
    "    out_train_dir = os.path.join(root_dir, \"train\")\n",
    "    out_test_dir = os.path.join(root_dir, \"test\")\n",
    "\n",
    "    os.makedirs(out_train_dir, exist_ok=True)\n",
    "    os.makedirs(out_test_dir, exist_ok=True)\n",
    "\n",
    "    def organize_images(anno_path, img_dir, output_dir):\n",
    "        annos = scipy.io.loadmat(anno_path)['annotations'][0]\n",
    "        for a in tqdm(annos, desc=f\"Organizing {output_dir}\"):\n",
    "            fname = str(a['fname'][0])               # ✅ Correct field\n",
    "            label = int(a['class'][0][0]) - 1       # ✅ Correct field\n",
    "            label_dir = os.path.join(output_dir, f\"{label:03d}\")\n",
    "            os.makedirs(label_dir, exist_ok=True)\n",
    "\n",
    "            src = os.path.join(img_dir, fname)\n",
    "            dst = os.path.join(label_dir, fname)\n",
    "\n",
    "            if os.path.exists(src):\n",
    "                shutil.copy(src, dst)\n",
    "            else:\n",
    "                print(f\"⚠️ Missing file: {src}\")\n",
    "\n",
    "\n",
    "    organize_images(train_anno_path, train_img_dir, out_train_dir)\n",
    "    organize_images(test_anno_path, test_img_dir, out_test_dir)\n",
    "\n",
    "# Run it\n",
    "prepare_imagefolder_format(\"/kaggle/MyCBM/stanford_cars\")\n",
    "\n",
    "print(\"✅ Dataset has been reorganized to ImageFolder format.\")\n"
   ]
  }
 ],
 "metadata": {
  "language_info": {
   "name": "python"
  }
 },
 "nbformat": 4,
 "nbformat_minor": 5
}
